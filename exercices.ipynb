{
 "cells": [
  {
   "cell_type": "code",
   "execution_count": 30,
   "metadata": {},
   "outputs": [
    {
     "name": "stdout",
     "output_type": "stream",
     "text": [
      "16\n",
      "9\n",
      "25\n",
      "9\n",
      "(512, 6561)\n",
      "1\n",
      "19\n",
      "name:a\n",
      "word:bb\n",
      "number:9\n",
      "None\n"
     ]
    }
   ],
   "source": [
    "#define a function\n",
    "def square():\n",
    "    '''simple function'''\n",
    "    value = 4**2\n",
    "    print(value)\n",
    "square()\n",
    "\n",
    "def square2 (value):\n",
    "    '''function with parameter'''\n",
    "    new_value = value**2\n",
    "    print(new_value)\n",
    "square2(3)\n",
    "\n",
    "def square3 (number):\n",
    "    '''function with parameter and return'''\n",
    "    new_number = number**2\n",
    "    return new_number #allows us to associate the function to a variable; if we print, the value of the variable would be NoneType; if we return, it will be the type of the value\n",
    "num = square3(5)\n",
    "print(num)\n",
    "\n",
    "def square4 (val1, val2):\n",
    "    '''function with multiple parameters and return'''\n",
    "    new_number = val1**val2\n",
    "    return new_number\n",
    "\n",
    "num2 = square4(3,2)\n",
    "print(num2)\n",
    "\n",
    "def square5 (val1, val2):\n",
    "    '''function with multiple parameters; returns tuple'''\n",
    "    new_number1 = val1**val2\n",
    "    new_number2 = val2**val1\n",
    "    tuple = (new_number1,new_number2) #creation of a tuple, as in an imutable list created with ()\n",
    "    return tuple\n",
    "tuex = square5(8,3)\n",
    "print(tuex)\n",
    "\n",
    "def square6 (val1, val2=0):\n",
    "    '''function with multiple parameters, one of them a default argument, and return'''\n",
    "    new_number = val1**val2 #if val2 is not defined when the function is called, it assumes the value 0\n",
    "    return new_number\n",
    "\n",
    "num6 = square6(3)\n",
    "print(num6)\n",
    "\n",
    "def sum7(*args):\n",
    "    '''function with flexible arguments and return'''\n",
    "    sum_all =  0\n",
    "    for num in args:\n",
    "        sum_all += num\n",
    "    return sum_all\n",
    "\n",
    "num7 = sum7(8,2,8,1)\n",
    "print(num7)\n",
    "\n",
    "def sum8(**kwargs):\n",
    "    '''function with flexible number of arguments (type variable=value) and return'''\n",
    "    for key, value in kwargs.items():\n",
    "        print(key + \":\" + value)\n",
    "    \n",
    "sum8 = sum8(name=\"a\", word=\"bb\", number=\"9\")\n",
    "print(sum8)\n"
   ]
  },
  {
   "cell_type": "code",
   "execution_count": 26,
   "metadata": {},
   "outputs": [
    {
     "name": "stdout",
     "output_type": "stream",
     "text": [
      "1\n"
     ]
    }
   ],
   "source": []
  },
  {
   "cell_type": "code",
   "execution_count": 22,
   "metadata": {},
   "outputs": [
    {
     "name": "stdout",
     "output_type": "stream",
     "text": [
      "congratulations!!!you!!!\n",
      "4\n",
      "congrats!!\n",
      "you!!\n"
     ]
    }
   ],
   "source": [
    "#exercises chapter 1\n",
    "def shout(word):\n",
    "    shout_word = word+\"!!!\"\n",
    "    return shout_word\n",
    "otp = shout(\"congratsss\")\n",
    "type(otp)\n",
    "\n",
    "def shout(word1, word2):\n",
    "    shout1 = word1 + \"!!!\"\n",
    "    shout2 = word2 + \"!!!\"\n",
    "    new_shout= shout1+shout2\n",
    "    return new_shout\n",
    "yell = shout('congratulations', 'you')\n",
    "print(yell)\n",
    "\n",
    "nums = (2,4,6)\n",
    "print(nums[1])\n",
    "\n",
    "def shout_all(word1, word2):\n",
    "    shout1 = word1 + \"!!\"\n",
    "    shout2 = word2 + \"!!\"\n",
    "    shout_words = (shout1, shout2)\n",
    "    return shout_words\n",
    "yell1, yell2 = shout_all('congrats', 'you')\n",
    "print(yell1)\n",
    "print(yell2)\n"
   ]
  },
  {
   "cell_type": "code",
   "execution_count": 23,
   "metadata": {},
   "outputs": [
    {
     "name": "stdout",
     "output_type": "stream",
     "text": [
      "lemon\n",
      "apple\n",
      "berry\n"
     ]
    },
    {
     "ename": "TypeError",
     "evalue": "descriptor 'append' for 'list' objects doesn't apply to a 'int' object",
     "output_type": "error",
     "traceback": [
      "\u001b[1;31m---------------------------------------------------------------------------\u001b[0m",
      "\u001b[1;31mTypeError\u001b[0m                                 Traceback (most recent call last)",
      "Input \u001b[1;32mIn [23]\u001b[0m, in \u001b[0;36m<cell line: 10>\u001b[1;34m()\u001b[0m\n\u001b[0;32m      7\u001b[0m give_key()\n\u001b[0;32m     10\u001b[0m \u001b[38;5;28;01mfor\u001b[39;00m i \u001b[38;5;129;01min\u001b[39;00m \u001b[38;5;28mrange\u001b[39m(\u001b[38;5;241m10\u001b[39m,\u001b[38;5;241m20\u001b[39m):\n\u001b[1;32m---> 11\u001b[0m     values_list \u001b[38;5;241m=\u001b[39m \u001b[38;5;28;43mlist\u001b[39;49m\u001b[38;5;241;43m.\u001b[39;49m\u001b[43mappend\u001b[49m\u001b[43m(\u001b[49m\u001b[43mi\u001b[49m\u001b[43m)\u001b[49m\n\u001b[0;32m     12\u001b[0m     values_sum \u001b[38;5;241m=\u001b[39m \u001b[38;5;28msum\u001b[39m(values_list)\n\u001b[0;32m     13\u001b[0m \u001b[38;5;28mprint\u001b[39m(values_list)\n",
      "\u001b[1;31mTypeError\u001b[0m: descriptor 'append' for 'list' objects doesn't apply to a 'int' object"
     ]
    }
   ],
   "source": [
    "#iterators\n",
    "\n",
    "def give_key():\n",
    "    dic = {'lemon': 'yellow', 'apple': 'green', 'berry': 'red'}\n",
    "    for key, value in dic.items():\n",
    "        print(key)\n",
    "give_key()\n",
    "\n",
    "\n",
    "values = range(10,20)\n",
    "values_list = list(values)\n",
    "values_sum = sum(values_list)\n",
    "print(values_list)\n",
    "print(values_sum)"
   ]
  },
  {
   "cell_type": "code",
   "execution_count": 28,
   "metadata": {},
   "outputs": [
    {
     "name": "stdout",
     "output_type": "stream",
     "text": [
      "[10, 11, 12, 13, 14, 15, 16, 17, 18, 19]\n",
      "145\n"
     ]
    },
    {
     "ename": "TypeError",
     "evalue": "'int' object is not iterable",
     "output_type": "error",
     "traceback": [
      "\u001b[1;31m---------------------------------------------------------------------------\u001b[0m",
      "\u001b[1;31mTypeError\u001b[0m                                 Traceback (most recent call last)",
      "Input \u001b[1;32mIn [28]\u001b[0m, in \u001b[0;36m<cell line: 6>\u001b[1;34m()\u001b[0m\n\u001b[0;32m      4\u001b[0m \u001b[38;5;28mprint\u001b[39m(values_list)\n\u001b[0;32m      5\u001b[0m \u001b[38;5;28mprint\u001b[39m(values_sum)\n\u001b[1;32m----> 6\u001b[0m \u001b[38;5;28;43miter\u001b[39;49m\u001b[43m(\u001b[49m\u001b[43mvalues_sum\u001b[49m\u001b[43m)\u001b[49m\n",
      "\u001b[1;31mTypeError\u001b[0m: 'int' object is not iterable"
     ]
    }
   ],
   "source": []
  }
 ],
 "metadata": {
  "kernelspec": {
   "display_name": "Python 3",
   "language": "python",
   "name": "python3"
  },
  "language_info": {
   "codemirror_mode": {
    "name": "ipython",
    "version": 3
   },
   "file_extension": ".py",
   "mimetype": "text/x-python",
   "name": "python",
   "nbconvert_exporter": "python",
   "pygments_lexer": "ipython3",
   "version": "3.10.6"
  }
 },
 "nbformat": 4,
 "nbformat_minor": 2
}
